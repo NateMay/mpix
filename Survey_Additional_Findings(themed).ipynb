{
 "cells": [
  {
   "cell_type": "code",
   "execution_count": 22,
   "metadata": {
    "id": "4WoqIBUD7ciw"
   },
   "outputs": [],
   "source": [
    "import pandas as pd\n",
    "import numpy as np\n",
    "import seaborn as sns\n",
    "from matplotlib import pyplot as plt \n",
    "sns.set_style(\"darkgrid\")"
   ]
  },
  {
   "cell_type": "code",
   "execution_count": 12,
   "metadata": {
    "colab": {
     "base_uri": "https://localhost:8080/",
     "height": 751
    },
    "id": "Nyt_mZWZ7ci1",
    "outputId": "12dc05b9-bd45-495e-a3cb-fad256daae18"
   },
   "outputs": [
    {
     "name": "stdout",
     "output_type": "stream",
     "text": [
      "229 completed responses\n"
     ]
    },
    {
     "data": {
      "text/html": [
       "<div>\n",
       "<style scoped>\n",
       "    .dataframe tbody tr th:only-of-type {\n",
       "        vertical-align: middle;\n",
       "    }\n",
       "\n",
       "    .dataframe tbody tr th {\n",
       "        vertical-align: top;\n",
       "    }\n",
       "\n",
       "    .dataframe thead th {\n",
       "        text-align: right;\n",
       "    }\n",
       "</style>\n",
       "<table border=\"1\" class=\"dataframe\">\n",
       "  <thead>\n",
       "    <tr style=\"text-align: right;\">\n",
       "      <th></th>\n",
       "      <th>StartDate</th>\n",
       "      <th>EndDate</th>\n",
       "      <th>Status</th>\n",
       "      <th>IPAddress</th>\n",
       "      <th>Progress</th>\n",
       "      <th>Duration (in seconds)</th>\n",
       "      <th>Finished</th>\n",
       "      <th>RecordedDate</th>\n",
       "      <th>ResponseId</th>\n",
       "      <th>RecipientLastName</th>\n",
       "      <th>...</th>\n",
       "      <th>Q13_3</th>\n",
       "      <th>Q13_4</th>\n",
       "      <th>Q13_5</th>\n",
       "      <th>Q13_6</th>\n",
       "      <th>Q13_7</th>\n",
       "      <th>Q14</th>\n",
       "      <th>Q15</th>\n",
       "      <th>Q15_3_TEXT</th>\n",
       "      <th>Q16</th>\n",
       "      <th>Q17</th>\n",
       "    </tr>\n",
       "  </thead>\n",
       "  <tbody>\n",
       "    <tr>\n",
       "      <th>0</th>\n",
       "      <td>2021-03-08 13:52:16</td>\n",
       "      <td>2021-03-08 13:55:23</td>\n",
       "      <td>IP Address</td>\n",
       "      <td>108.234.59.140</td>\n",
       "      <td>100</td>\n",
       "      <td>186</td>\n",
       "      <td>True</td>\n",
       "      <td>2021-03-08 13:55:23</td>\n",
       "      <td>R_2B4mFudU9IuOH9n</td>\n",
       "      <td>NaN</td>\n",
       "      <td>...</td>\n",
       "      <td>Some Effort</td>\n",
       "      <td>No Effort</td>\n",
       "      <td>Some Effort</td>\n",
       "      <td>No Effort</td>\n",
       "      <td>A lot of Effort</td>\n",
       "      <td>NaN</td>\n",
       "      <td>Google Photos</td>\n",
       "      <td>NaN</td>\n",
       "      <td>Yes</td>\n",
       "      <td>No</td>\n",
       "    </tr>\n",
       "    <tr>\n",
       "      <th>1</th>\n",
       "      <td>2021-03-11 13:56:17</td>\n",
       "      <td>2021-03-11 14:04:18</td>\n",
       "      <td>IP Address</td>\n",
       "      <td>174.234.2.245</td>\n",
       "      <td>100</td>\n",
       "      <td>480</td>\n",
       "      <td>True</td>\n",
       "      <td>2021-03-11 14:04:18</td>\n",
       "      <td>R_3PADc4e5mmcLTF2</td>\n",
       "      <td>NaN</td>\n",
       "      <td>...</td>\n",
       "      <td>No Effort</td>\n",
       "      <td>Some Effort</td>\n",
       "      <td>Some Effort</td>\n",
       "      <td>Some Effort</td>\n",
       "      <td>Some Effort</td>\n",
       "      <td>Not a huge variety of picture placing on page</td>\n",
       "      <td>NaN</td>\n",
       "      <td>NaN</td>\n",
       "      <td>No</td>\n",
       "      <td>No</td>\n",
       "    </tr>\n",
       "    <tr>\n",
       "      <th>2</th>\n",
       "      <td>2021-03-11 13:58:45</td>\n",
       "      <td>2021-03-11 14:05:24</td>\n",
       "      <td>IP Address</td>\n",
       "      <td>174.195.132.49</td>\n",
       "      <td>100</td>\n",
       "      <td>399</td>\n",
       "      <td>True</td>\n",
       "      <td>2021-03-11 14:05:24</td>\n",
       "      <td>R_1DZPNAAz1PSbZ60</td>\n",
       "      <td>NaN</td>\n",
       "      <td>...</td>\n",
       "      <td>Some Effort</td>\n",
       "      <td>Some Effort</td>\n",
       "      <td>Some Effort</td>\n",
       "      <td>Some Effort</td>\n",
       "      <td>Some Effort</td>\n",
       "      <td>I liked being able to drag my photos into a te...</td>\n",
       "      <td>Google Photos</td>\n",
       "      <td>NaN</td>\n",
       "      <td>Yes</td>\n",
       "      <td>Yes</td>\n",
       "    </tr>\n",
       "    <tr>\n",
       "      <th>3</th>\n",
       "      <td>2021-03-11 13:55:57</td>\n",
       "      <td>2021-03-11 14:05:27</td>\n",
       "      <td>IP Address</td>\n",
       "      <td>75.39.198.102</td>\n",
       "      <td>100</td>\n",
       "      <td>569</td>\n",
       "      <td>True</td>\n",
       "      <td>2021-03-11 14:05:27</td>\n",
       "      <td>R_VWDRZofczYGvL7r</td>\n",
       "      <td>NaN</td>\n",
       "      <td>...</td>\n",
       "      <td>Some Effort</td>\n",
       "      <td>Some Effort</td>\n",
       "      <td>Some Effort</td>\n",
       "      <td>A lot of Effort</td>\n",
       "      <td>A lot of Effort</td>\n",
       "      <td>I recently put together an album with Shutterf...</td>\n",
       "      <td>iCloud,Google Photos</td>\n",
       "      <td>NaN</td>\n",
       "      <td>Yes</td>\n",
       "      <td>No</td>\n",
       "    </tr>\n",
       "    <tr>\n",
       "      <th>4</th>\n",
       "      <td>2021-03-11 14:00:27</td>\n",
       "      <td>2021-03-11 14:06:04</td>\n",
       "      <td>IP Address</td>\n",
       "      <td>107.77.207.235</td>\n",
       "      <td>100</td>\n",
       "      <td>337</td>\n",
       "      <td>True</td>\n",
       "      <td>2021-03-11 14:06:05</td>\n",
       "      <td>R_2tbasLbp98LlmiR</td>\n",
       "      <td>NaN</td>\n",
       "      <td>...</td>\n",
       "      <td>Some Effort</td>\n",
       "      <td>Some Effort</td>\n",
       "      <td>No Effort</td>\n",
       "      <td>Some Effort</td>\n",
       "      <td>Some Effort</td>\n",
       "      <td>Unlimited free pages with Shutterfly! Made 3 b...</td>\n",
       "      <td>iCloud,Google Photos</td>\n",
       "      <td>NaN</td>\n",
       "      <td>No</td>\n",
       "      <td>No</td>\n",
       "    </tr>\n",
       "  </tbody>\n",
       "</table>\n",
       "<p>5 rows × 57 columns</p>\n",
       "</div>"
      ],
      "text/plain": [
       "             StartDate              EndDate      Status       IPAddress  \\\n",
       "0  2021-03-08 13:52:16  2021-03-08 13:55:23  IP Address  108.234.59.140   \n",
       "1  2021-03-11 13:56:17  2021-03-11 14:04:18  IP Address   174.234.2.245   \n",
       "2  2021-03-11 13:58:45  2021-03-11 14:05:24  IP Address  174.195.132.49   \n",
       "3  2021-03-11 13:55:57  2021-03-11 14:05:27  IP Address   75.39.198.102   \n",
       "4  2021-03-11 14:00:27  2021-03-11 14:06:04  IP Address  107.77.207.235   \n",
       "\n",
       "  Progress Duration (in seconds) Finished         RecordedDate  \\\n",
       "0      100                   186     True  2021-03-08 13:55:23   \n",
       "1      100                   480     True  2021-03-11 14:04:18   \n",
       "2      100                   399     True  2021-03-11 14:05:24   \n",
       "3      100                   569     True  2021-03-11 14:05:27   \n",
       "4      100                   337     True  2021-03-11 14:06:05   \n",
       "\n",
       "          ResponseId RecipientLastName  ...        Q13_3        Q13_4  \\\n",
       "0  R_2B4mFudU9IuOH9n               NaN  ...  Some Effort    No Effort   \n",
       "1  R_3PADc4e5mmcLTF2               NaN  ...    No Effort  Some Effort   \n",
       "2  R_1DZPNAAz1PSbZ60               NaN  ...  Some Effort  Some Effort   \n",
       "3  R_VWDRZofczYGvL7r               NaN  ...  Some Effort  Some Effort   \n",
       "4  R_2tbasLbp98LlmiR               NaN  ...  Some Effort  Some Effort   \n",
       "\n",
       "         Q13_5            Q13_6            Q13_7  \\\n",
       "0  Some Effort        No Effort  A lot of Effort   \n",
       "1  Some Effort      Some Effort      Some Effort   \n",
       "2  Some Effort      Some Effort      Some Effort   \n",
       "3  Some Effort  A lot of Effort  A lot of Effort   \n",
       "4    No Effort      Some Effort      Some Effort   \n",
       "\n",
       "                                                 Q14                   Q15  \\\n",
       "0                                                NaN         Google Photos   \n",
       "1     Not a huge variety of picture placing on page                    NaN   \n",
       "2  I liked being able to drag my photos into a te...         Google Photos   \n",
       "3  I recently put together an album with Shutterf...  iCloud,Google Photos   \n",
       "4  Unlimited free pages with Shutterfly! Made 3 b...  iCloud,Google Photos   \n",
       "\n",
       "  Q15_3_TEXT  Q16  Q17  \n",
       "0        NaN  Yes   No  \n",
       "1        NaN   No   No  \n",
       "2        NaN  Yes  Yes  \n",
       "3        NaN  Yes   No  \n",
       "4        NaN   No   No  \n",
       "\n",
       "[5 rows x 57 columns]"
      ]
     },
     "execution_count": 12,
     "metadata": {},
     "output_type": "execute_result"
    }
   ],
   "source": [
    "df = pd.read_csv('./mpix_survey_03_15.csv') # upload the data sheet to the files tab in Colab\n",
    "# drop header rows\n",
    "df = df[2:]\n",
    "\n",
    "# only completed survey results\n",
    "df = df[df.Finished == 'True']\n",
    "df = df.reset_index(drop=True)\n",
    "\n",
    "print(len(df), 'completed responses')\n",
    "\n",
    "df.head()"
   ]
  },
  {
   "cell_type": "markdown",
   "metadata": {
    "id": "Wpm5awsk7ci5"
   },
   "source": [
    "Extract the names and emails from DataFrame using column names, and saving to variable `names_emails`"
   ]
  },
  {
   "cell_type": "code",
   "execution_count": 13,
   "metadata": {
    "id": "dP0uRisoAs0x"
   },
   "outputs": [],
   "source": [
    "names_emails = df[['Q22', 'Q23']].dropna(subset=['Q23'])\n",
    "names_emails = names_emails.reset_index(drop=True) # 206, validated with search using regular expressions\n",
    "#len(match) # 206 entries\n",
    "\n",
    "# Extract the newest names since Monday\n",
    "names_emails = names_emails[206:]"
   ]
  },
  {
   "cell_type": "markdown",
   "metadata": {
    "id": "mCie8uOBCNog"
   },
   "source": [
    "Export `names_emails` to csv file\n",
    "\n",
    "*Find respondantNames.csv in the files tab of Google colab*"
   ]
  },
  {
   "cell_type": "code",
   "execution_count": 14,
   "metadata": {
    "colab": {
     "base_uri": "https://localhost:8080/",
     "height": 17
    },
    "id": "CNdEDb4dCNK3",
    "outputId": "32bc5581-9865-4a57-ceb4-aabe2713ab6f"
   },
   "outputs": [],
   "source": [
    "# from google.colab import files\n",
    "# names_emails.to_csv('respondantNames.csv') \n",
    "# files.download('respondantNames.csv')"
   ]
  },
  {
   "cell_type": "markdown",
   "metadata": {
    "id": "Z7hUmxXrz_aN"
   },
   "source": [
    "### **Question 5 (Numeric Approach)**: How would you rate the importance of the following physical features of a photobook?"
   ]
  },
  {
   "cell_type": "code",
   "execution_count": 23,
   "metadata": {
    "colab": {
     "base_uri": "https://localhost:8080/",
     "height": 484
    },
    "id": "qp4X199d0OAB",
    "outputId": "9c288021-9531-4973-ef20-fe43cc96d357"
   },
   "outputs": [
    {
     "name": "stdout",
     "output_type": "stream",
     "text": [
      "Mean of Physical Features (0 = Not important, 2 = Very Important)\n",
      "\n",
      "                        count      mean       std\n",
      "Book Bindings           189.0  1.259259  0.677512\n",
      "Custom Cover            189.0  1.253968  0.743087\n",
      "Photo Page Layout       189.0  1.645503  0.570781\n",
      "Paper Material          189.0  1.513228  0.588981\n",
      "Photo Print Material    189.0  1.671958  0.572701\n",
      "Holiday Special Themes  189.0  0.470899  0.672760\n",
      "\n",
      "\n"
     ]
    },
    {
     "data": {
      "image/png": "[encoded data removed]",
      "text/plain": [
       "<Figure size 432x288 with 1 Axes>"
      ]
     },
     "metadata": {},
     "output_type": "display_data"
    }
   ],
   "source": [
    "q5 = df[['Q5_1','Q5_2','Q5_3','Q5_4','Q5_5','Q5_6']]\n",
    "\n",
    "q5 = q5.dropna().reset_index(drop=True)\n",
    "\n",
    "q5.columns=['Book Bindings','Custom Cover','Photo Page Layout','Paper Material','Photo Print Material','Holiday Special Themes']\n",
    "\n",
    "# 0 pt for not important, 1 pt for somwhat, 2 for very\n",
    "\n",
    "def set_score (row):\n",
    "  if row == \"Not Important\":\n",
    "    return 0\n",
    "  elif row == \"Somewhat Important\":\n",
    "    return 1\n",
    "  else:\n",
    "    return 2\n",
    "\n",
    "for col in q5:\n",
    "  q5[col] = q5[col].apply(set_score)\n",
    "\n",
    "q5_mean = q5.describe().iloc[:3]\n",
    "\n",
    "print(f\"Mean of Physical Features (0 = Not important, 2 = Very Important)\\n\")\n",
    "print(q5_mean.T)\n",
    "print('\\n')\n",
    "\n",
    "f, ax = plt.subplots(1)\n",
    "\n",
    "ax.set_title(\"Mean of Physical Features (higher the more imporatant)\")\n",
    "ax.axvline(x = 1.671958, linestyle='--', color='r')\n",
    "sns.barplot(x = q5_mean.T[\"mean\"], y = q5_mean.T.index, orient='h', ax=ax, palette=\"Reds_r\");\n",
    "f.tight_layout();"
   ]
  },
  {
   "cell_type": "markdown",
   "metadata": {
    "id": "24tNMiMpK2bF"
   },
   "source": [
    "*Q5 Interpretations:*\n",
    "\n",
    "Looking at the means, we can infer that among those who have participated in our survey, people found the **Photo Print Material to be the most important physical feature** of a photobook (~1.675). By the same logic, the **least** significant physical feature appears to be **Holiday/Special Themes**.\n",
    "\n",
    "Additionally, the standard deviation of responses for Photo Print Material also appears to be the lowest, suggesting that the answers are more unified and closely clustered around the mean."
   ]
  },
  {
   "cell_type": "markdown",
   "metadata": {
    "id": "N138FPdtNQwv"
   },
   "source": [
    "### **Question 7 (Numeric Approach)**: Which of the following factors would most impact your choice of platform/vendor for photo books? (Rank from 1-5, 1 being the most important factor)"
   ]
  },
  {
   "cell_type": "code",
   "execution_count": 24,
   "metadata": {
    "colab": {
     "base_uri": "https://localhost:8080/",
     "height": 603
    },
    "id": "m7Fk5AZTNWuo",
    "outputId": "7798ac15-4721-45ac-90f7-5f08445e4359"
   },
   "outputs": [
    {
     "name": "stdout",
     "output_type": "stream",
     "text": [
      "Mean of categories (lower the more imporatant):\n",
      "\n",
      "Photo Print Quality                1.855814\n",
      "Price                              2.344186\n",
      "Page Template Ease of Use          2.944186\n",
      "More Customizable Features         3.595349\n",
      "Utilities for Organizing Photos    4.260465\n",
      "Name: mean, dtype: float64\n",
      "\n",
      "\n",
      "                                 count      mean       std\n",
      "Price                            215.0  2.344186  1.223848\n",
      "Photo Print Quality              215.0  1.855814  1.024308\n",
      "More Customizable Features       215.0  3.595349  1.199290\n",
      "Page Template Ease of Use        215.0  2.944186  1.150640\n",
      "Utilities for Organizing Photos  215.0  4.260465  1.017175\n",
      "\n",
      "\n"
     ]
    },
    {
     "data": {
      "image/png": "[encoded data removed]",
      "text/plain": [
       "<Figure size 432x288 with 1 Axes>"
      ]
     },
     "metadata": {},
     "output_type": "display_data"
    }
   ],
   "source": [
    "q7 = df[['Q7_1','Q7_2','Q7_3','Q7_4','Q7_5']]\n",
    "\n",
    "q7 = q7.dropna().reset_index(drop=True)\n",
    "\n",
    "q7.columns=['Price','Photo Print Quality','More Customizable Features','Page Template Ease of Use','Utilities for Organizing Photos']\n",
    "\n",
    "from matplotlib import pyplot as plt\n",
    "\n",
    "for col in q7:\n",
    "  q7[col] = q7[col].apply(lambda x: int(x))\n",
    "\n",
    "print(\"Mean of categories (lower the more imporatant):\\n\")\n",
    "print(q7.describe().loc['mean'].sort_values(ascending=True))\n",
    "print(\"\\n\")\n",
    "q7_mean = q7.describe().iloc[:3]\n",
    "\n",
    "print(q7_mean.T)\n",
    "print('\\n')\n",
    "\n",
    "f, ax = plt.subplots(1)\n",
    "ax.set_title(\"Factors that Influence Choice of Platform (lower the more imporatant)\")\n",
    "\n",
    "sns.barplot(x = q7_mean.T[\"mean\"], y = q7_mean.T.index, orient='h', ax=ax, palette=\"Reds_r\");\n",
    "f.tight_layout();"
   ]
  },
  {
   "cell_type": "markdown",
   "metadata": {
    "id": "zCnEhVyEQmby"
   },
   "source": [
    "*Q7 Interpretations*\n",
    "\n",
    "By looking at the means of the ranks, **Photo Print Quality** appears to be the most impactful factor that influcenes a customer's choice of platform when it comes to photobook ordering."
   ]
  },
  {
   "cell_type": "markdown",
   "metadata": {
    "id": "3BNoEOEE7fm_"
   },
   "source": [
    "### **Question 13 (Numeric Approach)**: Please rate the following steps in creating a photobook in terms of your expected effort"
   ]
  },
  {
   "cell_type": "code",
   "execution_count": 25,
   "metadata": {
    "colab": {
     "base_uri": "https://localhost:8080/",
     "height": 535
    },
    "id": "jUCQka0f8brP",
    "outputId": "f02ddf4f-a6e2-47e5-d8a0-bbc8d11a8367"
   },
   "outputs": [
    {
     "name": "stdout",
     "output_type": "stream",
     "text": [
      "215 Total Valid Responses\n",
      "\n",
      "Levels of Effort Anticipated (0 = no effort, 2 = a lot)\n",
      "\n",
      "                        count      mean       std\n",
      "Choosing Photos         215.0  1.395349  0.585635\n",
      "Photo Upload            215.0  0.520930  0.578654\n",
      "Writing Narrative       215.0  0.972093  0.595280\n",
      "Cropping and Adjusting  215.0  0.804651  0.562851\n",
      "Select Book Materials   215.0  0.697674  0.577413\n",
      "Finding Templates       215.0  0.972093  0.579367\n",
      "Customizing Templates   215.0  1.195349  0.554486\n",
      "\n",
      "\n"
     ]
    },
    {
     "data": {
      "image/png": "[encoded data removed]",
      "text/plain": [
       "<Figure size 432x288 with 1 Axes>"
      ]
     },
     "metadata": {},
     "output_type": "display_data"
    }
   ],
   "source": [
    "q13 = df[['Q13_1','Q13_2','Q13_3','Q13_4','Q13_5', 'Q13_6', 'Q13_7']]\n",
    "q13.columns=['Choosing Photos','Photo Upload','Writing Narrative','Cropping and Adjusting','Select Book Materials','Finding Templates','Customizing Templates']\n",
    "q13 = q13.dropna().reset_index(drop=True)\n",
    "print(f\"{len(q13)} Total Valid Responses\\n\") # 215/229 responses are complete\n",
    "print(f\"Levels of Effort Anticipated (0 = no effort, 2 = a lot)\\n\")\n",
    "\n",
    "def set_score (row):\n",
    "  if row == \"A lot of Effort\":\n",
    "    return 2\n",
    "  elif row == \"Some Effort\":\n",
    "    return 1\n",
    "  else:\n",
    "    return 0\n",
    "\n",
    "for col in q13:\n",
    "  q13[col] = q13[col].apply(set_score)\n",
    "\n",
    "q13_mean = q13.describe().iloc[:3]\n",
    "print(q13_mean.T)\n",
    "print('\\n')\n",
    "\n",
    "f, ax = plt.subplots(1)\n",
    "ax.axvline(x = 1.395349, linestyle='--', color='r')\n",
    "ax.set_title(\"Anticipated Levels of Effort in Steps to Create a Photobook\")\n",
    "sns.barplot(x = q13_mean.T[\"mean\"], y = q13_mean.T.index, orient='h', ax=ax, palette=\"Reds_r\");\n",
    "f.tight_layout();\n"
   ]
  },
  {
   "cell_type": "markdown",
   "metadata": {
    "id": "y4xC5BkxXJww"
   },
   "source": [
    "### **Question 4** (those who only used Mpix before) -> Quesiton 13 (Level of effort)"
   ]
  },
  {
   "cell_type": "code",
   "execution_count": 26,
   "metadata": {
    "colab": {
     "base_uri": "https://localhost:8080/",
     "height": 501
    },
    "id": "tQQx0SBfYLZT",
    "outputId": "89b4a16f-b3f5-4df2-b99d-79023630a50e"
   },
   "outputs": [
    {
     "name": "stdout",
     "output_type": "stream",
     "text": [
      "Levels of Effort Anticipated (0 = no effort, 2 = a lot)\n",
      "\n",
      "                        count      mean       std\n",
      "Choosing Photos          11.0  1.545455  0.522233\n",
      "Photo Upload             11.0  0.454545  0.522233\n",
      "Writing Narrative        11.0  0.727273  0.646670\n",
      "Cropping and Adjusting   11.0  0.727273  0.467099\n",
      "Select Book Materials    11.0  0.909091  0.831209\n",
      "Finding Templates        11.0  0.818182  0.603023\n",
      "Customizing Templates    11.0  1.272727  0.646670\n",
      "\n",
      "\n"
     ]
    },
    {
     "data": {
      "image/png": "[encoded data removed]",
      "text/plain": [
       "<Figure size 432x288 with 1 Axes>"
      ]
     },
     "metadata": {},
     "output_type": "display_data"
    }
   ],
   "source": [
    "mpix_effort = df[['Q4', 'Q13_1','Q13_2','Q13_3','Q13_4','Q13_5', 'Q13_6', 'Q13_7']]\n",
    "mpix_effort = mpix_effort[mpix_effort[\"Q4\"] == 'Mpix'].dropna()\n",
    "mpix_effort = mpix_effort.reset_index(drop=True)\n",
    "mpix_effort.columns=['Vendor','Choosing Photos','Photo Upload','Writing Narrative','Cropping and Adjusting','Select Book Materials','Finding Templates','Customizing Templates']\n",
    "\n",
    "def set_score (row):\n",
    "  if row == \"A lot of Effort\":\n",
    "    return 2\n",
    "  elif row == \"Some Effort\":\n",
    "    return 1\n",
    "  else:\n",
    "    return 0\n",
    "\n",
    "for col in mpix_effort:\n",
    "  mpix_effort[col] = mpix_effort[col].apply(set_score)\n",
    "\n",
    "mpix_effort_mean = mpix_effort.describe().iloc[:3]\n",
    "mpix_effort_mean = mpix_effort_mean.drop(['Vendor'], axis=1)\n",
    "print(f\"Levels of Effort Anticipated (0 = no effort, 2 = a lot)\\n\")\n",
    "print(mpix_effort_mean.T)\n",
    "print('\\n')\n",
    "\n",
    "f, ax = plt.subplots(1)\n",
    "ax.axvline(x = 1.545455, linestyle='--', color='r')\n",
    "ax.set_title(\"Anticipated Effort Levels for Mpix Users\")\n",
    "sns.barplot(x = mpix_effort_mean.T[\"mean\"], y = mpix_effort_mean.T.index, orient='h', ax=ax, palette=\"Reds_r\");\n",
    "f.tight_layout();"
   ]
  },
  {
   "cell_type": "markdown",
   "metadata": {
    "id": "EMHl2o72a-XH"
   },
   "source": [
    "*Interpretations*\n",
    "\n",
    "Among the 11 users who only utilized Mpix to make a photobook before, according to the mean of the responses, the level of expected effort goes as follows (0 = no effort, 2 = a lot of effort):\n",
    "\n",
    "Most Difficult => **Choosing Photos** (1.545455)\n",
    "\n",
    "Easiest => **Photo Upload** (0.454545)"
   ]
  },
  {
   "cell_type": "code",
   "execution_count": null,
   "metadata": {},
   "outputs": [],
   "source": []
  }
 ],
 "metadata": {
  "colab": {
   "collapsed_sections": [],
   "name": "Survey_Additional_Findings.ipynb",
   "provenance": [],
   "toc_visible": true
  },
  "kernelspec": {
   "display_name": "Python 3",
   "language": "python",
   "name": "python3"
  },
  "language_info": {
   "codemirror_mode": {
    "name": "ipython",
    "version": 3
   },
   "file_extension": ".py",
   "mimetype": "text/x-python",
   "name": "python",
   "nbconvert_exporter": "python",
   "pygments_lexer": "ipython3",
   "version": "3.8.3"
  }
 },
 "nbformat": 4,
 "nbformat_minor": 4
}
